{
 "cells": [
  {
   "cell_type": "code",
   "execution_count": null,
   "id": "d0d0309b-cb8f-4c9c-8793-9717c3d70d22",
   "metadata": {},
   "outputs": [],
   "source": []
  }
 ],
 "metadata": {
  "kernelspec": {
   "display_name": "",
   "name": ""
  },
  "language_info": {
   "name": ""
  }
 },
 "nbformat": 4,
 "nbformat_minor": 5
}
